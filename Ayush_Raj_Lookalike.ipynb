{
  "cells": [
    {
      "cell_type": "code",
      "source": [
        "from google.colab import drive\n",
        "drive.mount('/content/drive')"
      ],
      "metadata": {
        "colab": {
          "base_uri": "https://localhost:8080/"
        },
        "id": "L352RpyMCT_1",
        "outputId": "3a9db4b8-ae52-4f86-f17f-ce91791b71f5"
      },
      "id": "L352RpyMCT_1",
      "execution_count": 1,
      "outputs": [
        {
          "output_type": "stream",
          "name": "stdout",
          "text": [
            "Mounted at /content/drive\n"
          ]
        }
      ]
    },
    {
      "cell_type": "code",
      "source": [
        "import pandas as pd\n",
        "from sklearn.preprocessing import StandardScaler\n",
        "from sklearn.metrics.pairwise import cosine_similarity\n",
        "from collections import defaultdict"
      ],
      "metadata": {
        "id": "DP-dd6ioCBCW"
      },
      "id": "DP-dd6ioCBCW",
      "execution_count": 2,
      "outputs": []
    },
    {
      "cell_type": "code",
      "source": [
        "# Load the datasets\n",
        "customers = pd.read_csv('/content/drive/MyDrive/Customers.csv')\n",
        "products = pd.read_csv('/content/drive/MyDrive/Products.csv')\n",
        "transactions = pd.read_csv('/content/drive/MyDrive/Transactions.csv')"
      ],
      "metadata": {
        "id": "Sh__JKsECDZ3"
      },
      "id": "Sh__JKsECDZ3",
      "execution_count": 3,
      "outputs": []
    },
    {
      "cell_type": "code",
      "source": [
        "# Merge the data to associate transactions with customer and product information\n",
        "merged_data = pd.merge(transactions, customers, on='CustomerID', how='left')\n",
        "merged_data = pd.merge(merged_data, products, on='ProductID', how='left')"
      ],
      "metadata": {
        "id": "5wRLa4BJCFGp"
      },
      "id": "5wRLa4BJCFGp",
      "execution_count": 4,
      "outputs": []
    },
    {
      "cell_type": "code",
      "source": [
        "# Feature Engineering\n",
        "\n",
        "# 1. Create customer-level transaction features\n",
        "customer_features = merged_data.groupby('CustomerID').agg(\n",
        "    total_spent=('TotalValue', 'sum'),\n",
        "    num_transactions=('TransactionID', 'nunique'),\n",
        "    num_products_bought=('ProductID', 'nunique'),\n",
        "    avg_transaction_value=('TotalValue', 'mean')\n",
        ").reset_index()"
      ],
      "metadata": {
        "id": "FymkNIlaCGhh"
      },
      "id": "FymkNIlaCGhh",
      "execution_count": 5,
      "outputs": []
    },
    {
      "cell_type": "code",
      "source": [
        "# 2. Add customer profile features (Region, SignupDate)\n",
        "customer_profile = customers[['CustomerID', 'Region', 'SignupDate']]\n",
        "\n",
        "# Convert SignupDate to number of days since signup\n",
        "customer_profile['SignupDate'] = pd.to_datetime(customer_profile['SignupDate'])\n",
        "customer_profile['days_since_signup'] = (pd.to_datetime('today') - customer_profile['SignupDate']).dt.days\n",
        "\n",
        "# Merge profile features with transaction features\n",
        "customer_data = pd.merge(customer_features, customer_profile, on='CustomerID', how='left')"
      ],
      "metadata": {
        "colab": {
          "base_uri": "https://localhost:8080/"
        },
        "id": "MWD5dxvgCIyy",
        "outputId": "759b379c-480f-40df-b7f1-95554b4ca649"
      },
      "id": "MWD5dxvgCIyy",
      "execution_count": 6,
      "outputs": [
        {
          "output_type": "stream",
          "name": "stderr",
          "text": [
            "<ipython-input-6-b171d53555ad>:5: SettingWithCopyWarning: \n",
            "A value is trying to be set on a copy of a slice from a DataFrame.\n",
            "Try using .loc[row_indexer,col_indexer] = value instead\n",
            "\n",
            "See the caveats in the documentation: https://pandas.pydata.org/pandas-docs/stable/user_guide/indexing.html#returning-a-view-versus-a-copy\n",
            "  customer_profile['SignupDate'] = pd.to_datetime(customer_profile['SignupDate'])\n"
          ]
        }
      ]
    },
    {
      "cell_type": "code",
      "source": [
        "# 3. Normalize numerical features\n",
        "scaler = StandardScaler()\n",
        "numerical_features = ['total_spent', 'num_transactions', 'num_products_bought', 'avg_transaction_value', 'days_since_signup']\n",
        "customer_data[numerical_features] = scaler.fit_transform(customer_data[numerical_features])"
      ],
      "metadata": {
        "id": "KFTjzL7CCKgN"
      },
      "id": "KFTjzL7CCKgN",
      "execution_count": 7,
      "outputs": []
    },
    {
      "cell_type": "code",
      "source": [
        "# 4. Prepare the data for similarity calculation\n",
        "customer_data.set_index('CustomerID', inplace=True)"
      ],
      "metadata": {
        "id": "vscnBH-FCOom"
      },
      "id": "vscnBH-FCOom",
      "execution_count": 8,
      "outputs": []
    },
    {
      "cell_type": "code",
      "source": [
        "# 5. Compute cosine similarity between customers\n",
        "similarity_matrix = cosine_similarity(customer_data[numerical_features])"
      ],
      "metadata": {
        "id": "5FkSPtknCP4T"
      },
      "id": "5FkSPtknCP4T",
      "execution_count": 9,
      "outputs": []
    },
    {
      "cell_type": "code",
      "execution_count": 10,
      "id": "cc09b9a1-ff76-42eb-b902-ab4d0a02cb69",
      "metadata": {
        "colab": {
          "base_uri": "https://localhost:8080/"
        },
        "id": "cc09b9a1-ff76-42eb-b902-ab4d0a02cb69",
        "outputId": "11de8730-b337-40d1-df1b-8c223b92067e"
      },
      "outputs": [
        {
          "output_type": "stream",
          "name": "stdout",
          "text": [
            "  CustomerID LookalikeCustomerID  SimilarityScore\n",
            "0      C0001               C0152         0.999290\n",
            "1      C0001               C0160         0.964656\n",
            "2      C0001               C0134         0.931192\n",
            "3      C0002               C0029         0.995701\n",
            "4      C0002               C0192         0.980302\n"
          ]
        }
      ],
      "source": [
        "# 6. Create a dictionary to store the top 3 similar customers for each of the first 20 customers\n",
        "lookalikes = defaultdict(list)\n",
        "\n",
        "for i in range(20):  # First 20 customers (C0001 to C0020)\n",
        "    customer_id = f'C{i+1:04}'\n",
        "    similarities = similarity_matrix[i]\n",
        "\n",
        "    # Get the similarity scores and sort by highest similarity (excluding self)\n",
        "    similar_customers = sorted([(customer_data.index[j], similarities[j]) for j in range(len(similarities)) if customer_data.index[j] != customer_id], key=lambda x: x[1], reverse=True)\n",
        "\n",
        "    # Select top 3 similar customers\n",
        "    lookalikes[customer_id] = [(customer, score) for customer, score in similar_customers[:3]]\n",
        "\n",
        "# Convert the lookalikes dictionary into a DataFrame\n",
        "lookalike_df = pd.DataFrame([(cust_id, sim[0], sim[1]) for cust_id, sim_list in lookalikes.items() for sim in sim_list],\n",
        "                            columns=['CustomerID', 'LookalikeCustomerID', 'SimilarityScore'])\n",
        "\n",
        "# Save the results to Lookalike.csv\n",
        "lookalike_df.to_csv('Ayush_Raj_Lookalike.csv', index=False)\n",
        "\n",
        "# Show the first few rows of the lookalike recommendations\n",
        "print(lookalike_df.head())\n"
      ]
    }
  ],
  "metadata": {
    "kernelspec": {
      "display_name": "Python 3 (ipykernel)",
      "language": "python",
      "name": "python3"
    },
    "language_info": {
      "codemirror_mode": {
        "name": "ipython",
        "version": 3
      },
      "file_extension": ".py",
      "mimetype": "text/x-python",
      "name": "python",
      "nbconvert_exporter": "python",
      "pygments_lexer": "ipython3",
      "version": "3.12.4"
    },
    "colab": {
      "provenance": []
    }
  },
  "nbformat": 4,
  "nbformat_minor": 5
}